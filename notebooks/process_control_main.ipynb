{
 "cells": [
  {
   "cell_type": "markdown",
   "metadata": {
    "application/vnd.databricks.v1+cell": {
     "cellMetadata": {
      "byteLimit": 2048000,
      "rowLimit": 10000
     },
     "inputWidgets": {},
     "nuid": "09c39dc4-824d-4afa-97a2-8763e3bc1eb8",
     "showTitle": false,
     "tableResultSettingsMap": {},
     "title": ""
    }
   },
   "source": [
    "## Process Control Framework - Main Notebook\n",
    "#### This notebook creates a workflow for a given job based on its child job configuration"
   ]
  },
  {
   "cell_type": "code",
   "execution_count": 0,
   "metadata": {
    "application/vnd.databricks.v1+cell": {
     "cellMetadata": {
      "byteLimit": 2048000,
      "rowLimit": 10000
     },
     "inputWidgets": {},
     "nuid": "c76d7e21-30da-4758-ae3f-7b558807cccd",
     "showTitle": false,
     "tableResultSettingsMap": {},
     "title": ""
    }
   },
   "outputs": [],
   "source": [
    "dbutils.widgets.removeAll()\n",
    "dbutils.widgets.text(\"proj_id\", \"\", \"Project ID\")\n",
    "dbutils.widgets.text(\"dept_id\", \"\", \"Department ID\")\n",
    "dbutils.widgets.text(\"job_id\", \"\", \"Job ID\")\n",
    "dbutils.widgets.text(\"esp_job_name\", \"\", \"ESP Job Name\")"
   ]
  },
  {
   "cell_type": "code",
   "execution_count": 0,
   "metadata": {
    "application/vnd.databricks.v1+cell": {
     "cellMetadata": {
      "byteLimit": 2048000,
      "rowLimit": 10000
     },
     "inputWidgets": {},
     "nuid": "0e942799-9d80-4514-bd2c-b707e59880cb",
     "showTitle": false,
     "tableResultSettingsMap": {},
     "title": ""
    }
   },
   "outputs": [],
   "source": [
    "proj_id = dbutils.widgets.get(\"proj_id\")\n",
    "dept_id = dbutils.widgets.get(\"dept_id\")\n",
    "job_id = dbutils.widgets.get(\"job_id\")\n",
    "esp_job_name = dbutils.widgets.get(\"esp_job_name\")"
   ]
  },
  {
   "cell_type": "code",
   "execution_count": 0,
   "metadata": {
    "application/vnd.databricks.v1+cell": {
     "cellMetadata": {
      "byteLimit": 2048000,
      "rowLimit": 10000
     },
     "inputWidgets": {},
     "nuid": "adc7f753-30c1-4f60-bde4-81b77381a60f",
     "showTitle": false,
     "tableResultSettingsMap": {},
     "title": ""
    }
   },
   "outputs": [],
   "source": [
    "print(f\"proj_id: {dbutils.widgets.get('proj_id')}\")\n",
    "print(f\"dept_id: {dbutils.widgets.get('dept_id')}\")\n",
    "print(f\"job_id: {dbutils.widgets.get('job_id')}\")\n",
    "print(f\"esp_job_name: {esp_job_name}\")"
   ]
  },
  {
   "cell_type": "code",
   "execution_count": 0,
   "metadata": {
    "application/vnd.databricks.v1+cell": {
     "cellMetadata": {
      "byteLimit": 2048000,
      "rowLimit": 10000
     },
     "inputWidgets": {},
     "nuid": "d3f073a8-fef7-49fe-a67d-c91753c069a0",
     "showTitle": false,
     "tableResultSettingsMap": {},
     "title": ""
    }
   },
   "outputs": [],
   "source": [
    "from src.metadata_utils import get_child_jobs, get_notebook_path\n",
    "from src.workflow_utils import create_workflow_bundle, build_workflow_tasks"
   ]
  },
  {
   "cell_type": "code",
   "execution_count": 0,
   "metadata": {
    "application/vnd.databricks.v1+cell": {
     "cellMetadata": {
      "byteLimit": 2048000,
      "rowLimit": 10000
     },
     "inputWidgets": {},
     "nuid": "fb929aa5-bcb5-4c94-a2f4-30e8571b24d4",
     "showTitle": false,
     "tableResultSettingsMap": {},
     "title": ""
    }
   },
   "outputs": [],
   "source": [
    "from pathlib import Path\n",
    "import os\n",
    "\n",
    "def get_project_root(marker=\"databricks.yml\"):\n",
    "  current_file = Path(os.path.abspath(\"\")).resolve()\n",
    "  for parent in current_file.parents:\n",
    "    if (parent / marker).exists():\n",
    "      return parent\n",
    "  raise Exception(f\"Could not find project root with marker {marker}\")\n",
    "\n",
    "project_root_path = get_project_root()\n",
    "print(f\"Project root path: {project_root_path}\")"
   ]
  },
  {
   "cell_type": "code",
   "execution_count": 0,
   "metadata": {
    "application/vnd.databricks.v1+cell": {
     "cellMetadata": {
      "byteLimit": 2048000,
      "rowLimit": 10000
     },
     "inputWidgets": {},
     "nuid": "558e1f98-6510-40d0-a69a-e238c51f1dab",
     "showTitle": false,
     "tableResultSettingsMap": {},
     "title": ""
    }
   },
   "outputs": [],
   "source": [
    "try:\n",
    "    print(f\"Starting process control for project_id = {proj_id}, dept_id = {dept_id}, job_id = {job_id} and esp_job_name = {esp_job_name}\")\n",
    "\n",
    "    # Step 1: Get child jobs\n",
    "    child_jobs = get_child_jobs(spark, proj_id, dept_id, job_id)\n",
    "\n",
    "    if not child_jobs:\n",
    "        raise Exception(f\"No child jobs found for job {job_id}\")\n",
    "    \n",
    "    print(f\"Found {len(child_jobs)} child jobs for {job_id}\")\n",
    "    \n",
    "    # Step 2: Get notebook paths for all child jobs\n",
    "    notebook_paths = {}\n",
    "    for child in child_jobs:\n",
    "        child_name = child[\"name\"]\n",
    "        notebook_path = get_notebook_path(spark, proj_id, dept_id, child_name)\n",
    "        if notebook_path:\n",
    "            notebook_paths[child_name] = notebook_path\n",
    "    \n",
    "    # print(f\"Notebook paths: {notebook_paths}\")\n",
    "    \n",
    "    # Step 3: Build workflow tasks\n",
    "    # workflow_name = f\"{proj_id}_{dept_id}_{job_id}_{esp_job_name}\"\n",
    "    workflow_name = f\"{esp_job_name}\"\n",
    "    print(f\"Workflow name: {workflow_name}\")\n",
    "\n",
    "    job_parameters = {\n",
    "        \"env\": \"dev\",\n",
    "        \"proj_id\": proj_id,\n",
    "        \"dept_id\": dept_id,\n",
    "        \"job_id\": job_id\n",
    "    }\n",
    "\n",
    "    tasks = build_workflow_tasks(proj_id, dept_id, job_id, child_jobs, notebook_paths)\n",
    "\n",
    "    print(f\"Tasks: {tasks}\")\n",
    "    \n",
    "    # Step 4: Create workflow\n",
    "    print(project_root_path)\n",
    "    bundle_path = create_workflow_bundle(workflow_name, tasks, job_parameters, project_root_path)\n",
    "\n",
    "    if bundle_path:\n",
    "        print(f\"SUCCESS: Created workflow yaml\")\n",
    "    else:\n",
    "        raise Exception(\"FAILED: Could not create workflow bundle\")\n",
    "\n",
    "    # # Get Databricks workspace URL and token\n",
    "    # databricks_url = dbutils.notebook.entry_point.getDbutils().notebook().getContext().apiUrl().get()\n",
    "    # token = dbutils.notebook.entry_point.getDbutils().notebook().getContext().apiToken().get()\n",
    "\n",
    "    # print(f\"Databricks URL: {databricks_url}\")\n",
    "    # print(f\"Token: {token}\")\n",
    "    \n",
    "    # workflow_id = create_workflow(databricks_url, token, workflow_name, tasks, proj_id, dept_id, job_id)\n",
    "    # print(f\"Workflow ID: {workflow_id}\")\n",
    "    # if workflow_id:\n",
    "    #     print(f\"SUCCESS: Created workflow {workflow_id}\")\n",
    "    # else:\n",
    "    #     raise Exception(\"FAILED: Could not create workflow\")\n",
    "except Exception as e:\n",
    "    error_msg = f\"Error in process control: {str(e)}\"\n",
    "    print(error_msg)\n",
    "    raise Exception(f\"FAILED: {error_msg}\")\n"
   ]
  }
 ],
 "metadata": {
  "application/vnd.databricks.v1+notebook": {
   "computePreferences": null,
   "dashboards": [],
   "environmentMetadata": {
    "base_environment": "",
    "environment_version": "2"
   },
   "inputWidgetPreferences": null,
   "language": "python",
   "notebookMetadata": {
    "pythonIndentUnit": 2
   },
   "notebookName": "process_control_main",
   "widgets": {
    "dept_id": {
     "currentValue": "mna_cooked_rad_scm",
     "nuid": "ed6e5fbd-8808-44c2-8f60-750df40ff5b7",
     "typedWidgetInfo": {
      "autoCreated": false,
      "defaultValue": "",
      "label": "Department ID",
      "name": "dept_id",
      "options": {
       "widgetDisplayType": "Text",
       "validationRegex": null
      },
      "parameterDataType": "String"
     },
     "widgetInfo": {
      "widgetType": "text",
      "defaultValue": "",
      "label": "Department ID",
      "name": "dept_id",
      "options": {
       "widgetType": "text",
       "autoCreated": null,
       "validationRegex": null
      }
     }
    },
    "esp_job_name": {
     "currentValue": "DAE00193",
     "nuid": "b275a90a-6e21-4acb-b096-de211eaac2cd",
     "typedWidgetInfo": {
      "autoCreated": false,
      "defaultValue": "",
      "label": "ESP Job Name",
      "name": "esp_job_name",
      "options": {
       "widgetDisplayType": "Text",
       "validationRegex": null
      },
      "parameterDataType": "String"
     },
     "widgetInfo": {
      "widgetType": "text",
      "defaultValue": "",
      "label": "ESP Job Name",
      "name": "esp_job_name",
      "options": {
       "widgetType": "text",
       "autoCreated": null,
       "validationRegex": null
      }
     }
    },
    "job_id": {
     "currentValue": "300_rad_scm_daily_waterfall_refresh_master",
     "nuid": "8e46aa91-236f-48e0-832a-2835627e8766",
     "typedWidgetInfo": {
      "autoCreated": false,
      "defaultValue": "",
      "label": "Job ID",
      "name": "job_id",
      "options": {
       "widgetDisplayType": "Text",
       "validationRegex": null
      },
      "parameterDataType": "String"
     },
     "widgetInfo": {
      "widgetType": "text",
      "defaultValue": "",
      "label": "Job ID",
      "name": "job_id",
      "options": {
       "widgetType": "text",
       "autoCreated": null,
       "validationRegex": null
      }
     }
    },
    "proj_id": {
     "currentValue": "hadoop_mna_prod",
     "nuid": "8f6bddea-3fd4-4198-8da2-1600df02d727",
     "typedWidgetInfo": {
      "autoCreated": false,
      "defaultValue": "",
      "label": "Project ID",
      "name": "proj_id",
      "options": {
       "widgetDisplayType": "Text",
       "validationRegex": null
      },
      "parameterDataType": "String"
     },
     "widgetInfo": {
      "widgetType": "text",
      "defaultValue": "",
      "label": "Project ID",
      "name": "proj_id",
      "options": {
       "widgetType": "text",
       "autoCreated": null,
       "validationRegex": null
      }
     }
    }
   }
  },
  "language_info": {
   "name": "python"
  }
 },
 "nbformat": 4,
 "nbformat_minor": 0
}
