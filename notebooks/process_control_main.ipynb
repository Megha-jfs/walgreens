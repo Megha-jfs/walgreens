{
 "cells": [
  {
   "cell_type": "markdown",
   "metadata": {
    "application/vnd.databricks.v1+cell": {
     "cellMetadata": {
      "byteLimit": 2048000,
      "rowLimit": 10000
     },
     "inputWidgets": {},
     "nuid": "09c39dc4-824d-4afa-97a2-8763e3bc1eb8",
     "showTitle": false,
     "tableResultSettingsMap": {},
     "title": ""
    }
   },
   "source": [
    "## Process Control Framework - Main Notebook\n",
    "#### This notebook creates a workflow for a given job based on its child job configuration"
   ]
  },
  {
   "cell_type": "code",
   "execution_count": 0,
   "metadata": {
    "application/vnd.databricks.v1+cell": {
     "cellMetadata": {
      "byteLimit": 2048000,
      "rowLimit": 10000
     },
     "inputWidgets": {},
     "nuid": "c76d7e21-30da-4758-ae3f-7b558807cccd",
     "showTitle": false,
     "tableResultSettingsMap": {},
     "title": ""
    }
   },
   "outputs": [],
   "source": [
    "dbutils.widgets.removeAll()\n",
    "dbutils.widgets.text(\"esp_job_id\", \"\", \"ESP Job ID\")"
   ]
  },
  {
   "cell_type": "code",
   "execution_count": 0,
   "metadata": {
    "application/vnd.databricks.v1+cell": {
     "cellMetadata": {
      "byteLimit": 2048000,
      "rowLimit": 10000
     },
     "inputWidgets": {},
     "nuid": "0e942799-9d80-4514-bd2c-b707e59880cb",
     "showTitle": false,
     "tableResultSettingsMap": {},
     "title": ""
    }
   },
   "outputs": [],
   "source": [
    "esp_job_id = dbutils.widgets.get(\"esp_job_id\")"
   ]
  },
  {
   "cell_type": "code",
   "execution_count": 0,
   "metadata": {
    "application/vnd.databricks.v1+cell": {
     "cellMetadata": {
      "byteLimit": 2048000,
      "rowLimit": 10000
     },
     "inputWidgets": {},
     "nuid": "adc7f753-30c1-4f60-bde4-81b77381a60f",
     "showTitle": false,
     "tableResultSettingsMap": {},
     "title": ""
    }
   },
   "outputs": [],
   "source": [
    "print(f\"esp_job_id: {esp_job_id}\")"
   ]
  },
  {
   "cell_type": "code",
   "execution_count": 0,
   "metadata": {
    "application/vnd.databricks.v1+cell": {
     "cellMetadata": {
      "byteLimit": 2048000,
      "rowLimit": 10000
     },
     "inputWidgets": {},
     "nuid": "d3f073a8-fef7-49fe-a67d-c91753c069a0",
     "showTitle": false,
     "tableResultSettingsMap": {},
     "title": ""
    }
   },
   "outputs": [],
   "source": [
    "from src.metadata_utils import get_job_details\n",
    "from src.workflow_utils import create_workflow_yaml"
   ]
  },
  {
   "cell_type": "code",
   "execution_count": 0,
   "metadata": {
    "application/vnd.databricks.v1+cell": {
     "cellMetadata": {
      "byteLimit": 2048000,
      "rowLimit": 10000
     },
     "inputWidgets": {},
     "nuid": "fb929aa5-bcb5-4c94-a2f4-30e8571b24d4",
     "showTitle": false,
     "tableResultSettingsMap": {},
     "title": ""
    }
   },
   "outputs": [],
   "source": [
    "from pathlib import Path\n",
    "import os\n",
    "\n",
    "def get_project_root(marker=\"databricks.yml\"):\n",
    "  current_file = Path(os.path.abspath(\"\")).resolve()\n",
    "  for parent in current_file.parents:\n",
    "    if (parent / marker).exists():\n",
    "      return parent\n",
    "  raise Exception(f\"Could not find project root with marker {marker}\")\n",
    "\n",
    "project_root_path = get_project_root()\n",
    "print(f\"Project root path: {project_root_path}\")"
   ]
  },
  {
   "cell_type": "code",
   "execution_count": 0,
   "metadata": {
    "application/vnd.databricks.v1+cell": {
     "cellMetadata": {
      "byteLimit": 2048000,
      "rowLimit": 10000
     },
     "inputWidgets": {},
     "nuid": "558e1f98-6510-40d0-a69a-e238c51f1dab",
     "showTitle": false,
     "tableResultSettingsMap": {},
     "title": ""
    }
   },
   "outputs": [],
   "source": [
    "try:\n",
    "    print(f\"Starting process control for esp_job_id = {esp_job_id}\")\n",
    "\n",
    "    # Step 1: Get child jobs\n",
    "    parent_info, child_jobs = get_job_details(spark, esp_job_id)\n",
    "\n",
    "    if not parent_info or not child_jobs:\n",
    "        raise Exception(f\"Could not find job details for ESP job id : {esp_job_id}\")\n",
    "    \n",
    "    print(f\"Parent job info: {parent_info}\")\n",
    "    print(f\"Child jobs: {child_jobs}\")\n",
    "    print(f\"Found {len(child_jobs)} child jobs for {esp_job_id}\")\n",
    "    \n",
    "    # Step 2: Build workflow tasks\n",
    "\n",
    "    job_yaml_path = create_workflow_yaml(esp_job_id, parent_info, child_jobs, project_root_path)\n",
    "\n",
    "    print(f\"YAML file created at: {job_yaml_path}\")\n",
    "\n",
    "    if job_yaml_path:\n",
    "        print(f\"SUCCESS: Created workflow yaml\")\n",
    "    else:\n",
    "        raise Exception(\"FAILED: Could not create workflow yaml\")\n",
    "    \n",
    "except Exception as e:\n",
    "    error_msg = f\"Error in process control: {str(e)}\"\n",
    "    print(error_msg)\n",
    "    raise Exception(f\"FAILED: {error_msg}\")\n"
   ]
  }
 ],
 "metadata": {
  "application/vnd.databricks.v1+notebook": {
   "computePreferences": null,
   "dashboards": [],
   "environmentMetadata": {
    "base_environment": "",
    "environment_version": "2"
   },
   "inputWidgetPreferences": null,
   "language": "python",
   "notebookMetadata": {
    "pythonIndentUnit": 2
   },
   "notebookName": "process_control_main",
   "widgets": {
    "esp_job_id": {
     "currentValue": "SCM20439",
     "nuid": "1181de5b-865c-431e-be64-3577ad9910b9",
     "typedWidgetInfo": {
      "autoCreated": false,
      "defaultValue": "",
      "label": "ESP Job ID",
      "name": "esp_job_id",
      "options": {
       "widgetDisplayType": "Text",
       "validationRegex": null
      },
      "parameterDataType": "String"
     },
     "widgetInfo": {
      "widgetType": "text",
      "defaultValue": "",
      "label": "ESP Job ID",
      "name": "esp_job_id",
      "options": {
       "widgetType": "text",
       "autoCreated": null,
       "validationRegex": null
      }
     }
    }
   }
  },
  "language_info": {
   "name": "python"
  }
 },
 "nbformat": 4,
 "nbformat_minor": 0
}
