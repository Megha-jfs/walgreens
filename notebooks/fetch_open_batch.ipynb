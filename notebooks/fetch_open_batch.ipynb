{
 "cells": [
  {
   "cell_type": "markdown",
   "metadata": {
    "application/vnd.databricks.v1+cell": {
     "cellMetadata": {
      "byteLimit": 2048000,
      "rowLimit": 10000
     },
     "inputWidgets": {},
     "nuid": "04a69741-4bef-4db5-9a66-b1f2bea30b14",
     "showTitle": false,
     "tableResultSettingsMap": {},
     "title": ""
    }
   },
   "source": [
    "### Fetch the batch_id which is open"
   ]
  },
  {
   "cell_type": "code",
   "execution_count": 0,
   "metadata": {
    "application/vnd.databricks.v1+cell": {
     "cellMetadata": {
      "byteLimit": 2048000,
      "rowLimit": 10000
     },
     "inputWidgets": {},
     "nuid": "e12c7aeb-a625-48bc-a7f3-1659a517425d",
     "showTitle": false,
     "tableResultSettingsMap": {},
     "title": ""
    }
   },
   "outputs": [],
   "source": [
    "print(dbutils.notebook.getContext().currentRunId)"
   ]
  },
  {
   "cell_type": "code",
   "execution_count": 0,
   "metadata": {
    "application/vnd.databricks.v1+cell": {
     "cellMetadata": {
      "byteLimit": 2048000,
      "rowLimit": 10000
     },
     "inputWidgets": {},
     "nuid": "8b230e25-111e-42cb-9748-609c624f5ca7",
     "showTitle": false,
     "tableResultSettingsMap": {},
     "title": ""
    }
   },
   "outputs": [],
   "source": [
    "dbutils.widgets.removeAll()\n",
    "dbutils.widgets.text(\"env\", \"\", \"Env Name\")\n",
    "dbutils.widgets.text(\"proj_id\", \"\", \"Project ID\")\n",
    "dbutils.widgets.text(\"dept_id\", \"\", \"Department ID\")\n",
    "dbutils.widgets.text(\"job_id\", \"\", \"Job ID\")"
   ]
  },
  {
   "cell_type": "code",
   "execution_count": 0,
   "metadata": {
    "application/vnd.databricks.v1+cell": {
     "cellMetadata": {
      "byteLimit": 2048000,
      "rowLimit": 10000
     },
     "inputWidgets": {},
     "nuid": "01096378-0e53-4325-a72d-2de230457246",
     "showTitle": false,
     "tableResultSettingsMap": {},
     "title": ""
    }
   },
   "outputs": [],
   "source": [
    "env = dbutils.widgets.get(\"env\")\n",
    "proj_id = dbutils.widgets.get(\"proj_id\")\n",
    "dept_id = dbutils.widgets.get(\"dept_id\")\n",
    "job_id = dbutils.widgets.get(\"job_id\")"
   ]
  },
  {
   "cell_type": "code",
   "execution_count": 0,
   "metadata": {
    "application/vnd.databricks.v1+cell": {
     "cellMetadata": {
      "byteLimit": 2048000,
      "rowLimit": 10000
     },
     "inputWidgets": {},
     "nuid": "8e002c4a-709b-453c-a9f6-a18da3948097",
     "showTitle": false,
     "tableResultSettingsMap": {},
     "title": ""
    }
   },
   "outputs": [],
   "source": [
    "print(f\"env: {dbutils.widgets.get('env')}\")\n",
    "print(f\"proj_id: {dbutils.widgets.get('proj_id')}\")\n",
    "print(f\"dept_id: {dbutils.widgets.get('dept_id')}\")\n",
    "print(f\"job_id: {dbutils.widgets.get('job_id')}\")"
   ]
  },
  {
   "cell_type": "code",
   "execution_count": 0,
   "metadata": {
    "application/vnd.databricks.v1+cell": {
     "cellMetadata": {
      "byteLimit": 2048000,
      "rowLimit": 10000
     },
     "inputWidgets": {},
     "nuid": "85ddbb69-a13a-477f-8c3e-42431f1a9502",
     "showTitle": false,
     "tableResultSettingsMap": {},
     "title": ""
    }
   },
   "outputs": [],
   "source": [
    "try:\n",
    "    batch_id = spark.sql(f\"\"\"\n",
    "        SELECT max(batch_id) as max_batch_id\n",
    "        FROM data_migration_validator_dev.test_megha.batch_execution_detail  \n",
    "        WHERE lower(status) = 'open'\n",
    "    \"\"\").first().max_batch_id\n",
    "\n",
    "    if batch_id is None:\n",
    "        error_msg = f\"No open batch found !! Please open a fresh batch to begin with.\"\n",
    "        raise Exception(error_msg)\n",
    "\n",
    "    else:\n",
    "        dbutils.jobs.taskValues.set(key = \"batch_id\", value = batch_id)\n",
    "        print(f\"Max open batch_id: {batch_id}\")\n",
    "except Exception as e:\n",
    "    error_msg = f\"Error checking batch: {str(e)}\"\n",
    "    raise Exception(error_msg)"
   ]
  }
 ],
 "metadata": {
  "application/vnd.databricks.v1+notebook": {
   "computePreferences": null,
   "dashboards": [],
   "environmentMetadata": {
    "base_environment": "",
    "environment_version": "2"
   },
   "inputWidgetPreferences": null,
   "language": "python",
   "notebookMetadata": {
    "mostRecentlyExecutedCommandWithImplicitDF": {
     "commandId": 8384438661478896,
     "dataframes": [
      "_sqldf"
     ]
    },
    "pythonIndentUnit": 2
   },
   "notebookName": "fetch_open_batch",
   "widgets": {
    "dept_id": {
     "currentValue": "",
     "nuid": "7b4050d2-0ea8-489e-b77b-c2017d70bbb2",
     "typedWidgetInfo": {
      "autoCreated": false,
      "defaultValue": "",
      "label": "Department ID",
      "name": "dept_id",
      "options": {
       "widgetDisplayType": "Text",
       "validationRegex": null
      },
      "parameterDataType": "String"
     },
     "widgetInfo": {
      "widgetType": "text",
      "defaultValue": "",
      "label": "Department ID",
      "name": "dept_id",
      "options": {
       "widgetType": "text",
       "autoCreated": null,
       "validationRegex": null
      }
     }
    },
    "env": {
     "currentValue": "",
     "nuid": "889d78ce-00ca-4b34-a62d-2596a3e21fe2",
     "typedWidgetInfo": {
      "autoCreated": false,
      "defaultValue": "",
      "label": "Env Name",
      "name": "env",
      "options": {
       "widgetDisplayType": "Text",
       "validationRegex": null
      },
      "parameterDataType": "String"
     },
     "widgetInfo": {
      "widgetType": "text",
      "defaultValue": "",
      "label": "Env Name",
      "name": "env",
      "options": {
       "widgetType": "text",
       "autoCreated": null,
       "validationRegex": null
      }
     }
    },
    "job_id": {
     "currentValue": "",
     "nuid": "0eea614f-de33-4829-8463-df5b99af31f8",
     "typedWidgetInfo": {
      "autoCreated": false,
      "defaultValue": "",
      "label": "Job ID",
      "name": "job_id",
      "options": {
       "widgetDisplayType": "Text",
       "validationRegex": null
      },
      "parameterDataType": "String"
     },
     "widgetInfo": {
      "widgetType": "text",
      "defaultValue": "",
      "label": "Job ID",
      "name": "job_id",
      "options": {
       "widgetType": "text",
       "autoCreated": null,
       "validationRegex": null
      }
     }
    },
    "proj_id": {
     "currentValue": "",
     "nuid": "1a14d9ab-666a-4525-ae4c-d969a1fa3f64",
     "typedWidgetInfo": {
      "autoCreated": false,
      "defaultValue": "",
      "label": "Project ID",
      "name": "proj_id",
      "options": {
       "widgetDisplayType": "Text",
       "validationRegex": null
      },
      "parameterDataType": "String"
     },
     "widgetInfo": {
      "widgetType": "text",
      "defaultValue": "",
      "label": "Project ID",
      "name": "proj_id",
      "options": {
       "widgetType": "text",
       "autoCreated": null,
       "validationRegex": null
      }
     }
    }
   }
  },
  "language_info": {
   "name": "python"
  }
 },
 "nbformat": 4,
 "nbformat_minor": 0
}
