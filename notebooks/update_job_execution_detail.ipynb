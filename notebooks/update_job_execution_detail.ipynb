{
 "cells": [
  {
   "cell_type": "markdown",
   "metadata": {
    "application/vnd.databricks.v1+cell": {
     "cellMetadata": {
      "byteLimit": 2048000,
      "rowLimit": 10000
     },
     "inputWidgets": {},
     "nuid": "73a4e1aa-55c7-4474-8d47-ceb207199a51",
     "showTitle": false,
     "tableResultSettingsMap": {},
     "title": ""
    }
   },
   "source": [
    "### Update job status in job-execution detail table"
   ]
  },
  {
   "cell_type": "code",
   "execution_count": 0,
   "metadata": {
    "application/vnd.databricks.v1+cell": {
     "cellMetadata": {
      "byteLimit": 2048000,
      "rowLimit": 10000
     },
     "inputWidgets": {},
     "nuid": "44e4ba2b-ff38-4b46-9119-34ca3e6f440c",
     "showTitle": false,
     "tableResultSettingsMap": {},
     "title": ""
    }
   },
   "outputs": [],
   "source": [
    "dbutils.widgets.removeAll()\n",
    "dbutils.widgets.text(\"env\", \"\", \"Env Name\")\n",
    "dbutils.widgets.text(\"proj_id\", \"\", \"Project ID\")\n",
    "dbutils.widgets.text(\"dept_id\", \"\", \"Department ID\")\n",
    "dbutils.widgets.text(\"job_id\", \"\", \"Job ID\")\n",
    "dbutils.widgets.text(\"status\", \"\", \"Status\")\n",
    "dbutils.widgets.text(\"error_message\", \"\", \"Error Message\")\n",
    "dbutils.widgets.text(\"workflow_id\", \"\", \"Workflow ID\")\n",
    "dbutils.widgets.text(\"run_id\", \"\", \"Run ID\")\n",
    "# dbutils.widgets.text(\"run_url\", \"\", \"Run URL\")"
   ]
  },
  {
   "cell_type": "code",
   "execution_count": 0,
   "metadata": {
    "application/vnd.databricks.v1+cell": {
     "cellMetadata": {
      "byteLimit": 2048000,
      "rowLimit": 10000
     },
     "inputWidgets": {},
     "nuid": "9d5b4b08-e7b5-49fc-bafa-95d41fa28c5f",
     "showTitle": false,
     "tableResultSettingsMap": {},
     "title": ""
    }
   },
   "outputs": [],
   "source": [
    "env = dbutils.widgets.get(\"env\")\n",
    "proj_id = dbutils.widgets.get(\"proj_id\")\n",
    "dept_id = dbutils.widgets.get(\"dept_id\")\n",
    "job_id = dbutils.widgets.get(\"job_id\")\n",
    "status = dbutils.widgets.get(\"status\")\n",
    "error_message = dbutils.widgets.get(\"error_message\")\n",
    "workflow_id = dbutils.widgets.get(\"workflow_id\")\n",
    "run_id = dbutils.widgets.get(\"run_id\")"
   ]
  },
  {
   "cell_type": "code",
   "execution_count": 0,
   "metadata": {
    "application/vnd.databricks.v1+cell": {
     "cellMetadata": {
      "byteLimit": 2048000,
      "rowLimit": 10000
     },
     "inputWidgets": {},
     "nuid": "2d0cb03b-96cd-4fbb-a610-5369867832d8",
     "showTitle": false,
     "tableResultSettingsMap": {},
     "title": ""
    }
   },
   "outputs": [],
   "source": [
    "batch_id = dbutils.jobs.taskValues.get(taskKey=\"batch_check\", key=\"batch_id\", debugValue=1)"
   ]
  },
  {
   "cell_type": "code",
   "execution_count": 0,
   "metadata": {
    "application/vnd.databricks.v1+cell": {
     "cellMetadata": {
      "byteLimit": 2048000,
      "rowLimit": 10000
     },
     "inputWidgets": {},
     "nuid": "3557bd3d-59df-4ff6-945e-300220cbb399",
     "showTitle": false,
     "tableResultSettingsMap": {},
     "title": ""
    }
   },
   "outputs": [],
   "source": [
    "result = spark.sql(f\"\"\"\n",
    "    select parent_job_id from data_migration_validator_dev.test_megha.job_parameter_detail \n",
    "    where proj_id = '{proj_id}' and dept_id = '{dept_id}' and job_id = '{job_id}'\"\"\"\n",
    ").collect()\n",
    "\n",
    "if result:\n",
    "    parent_job_id = result[0]['parent_job_id']\n",
    "else:\n",
    "    parent_job_id = None"
   ]
  },
  {
   "cell_type": "code",
   "execution_count": 0,
   "metadata": {
    "application/vnd.databricks.v1+cell": {
     "cellMetadata": {
      "byteLimit": 2048000,
      "rowLimit": 10000
     },
     "inputWidgets": {},
     "nuid": "be71bb52-84c0-448d-b906-af50797408bd",
     "showTitle": false,
     "tableResultSettingsMap": {},
     "title": ""
    }
   },
   "outputs": [],
   "source": [
    "print(f\"env: {dbutils.widgets.get('env')}\")\n",
    "print(f\"proj_id: {dbutils.widgets.get('proj_id')}\")\n",
    "print(f\"dept_id: {dbutils.widgets.get('dept_id')}\")\n",
    "print(f\"job_id: {dbutils.widgets.get('job_id')}\")\n",
    "print(f\"parent_job_id: {parent_job_id}\")\n",
    "print(f\"batch_id: {batch_id}\")\n",
    "print(f\"status: {dbutils.widgets.get('status')}\")\n",
    "print(f\"error_message: {dbutils.widgets.get('error_message')}\")\n",
    "print(f\"workflow_id: {dbutils.widgets.get('workflow_id')}\")\n",
    "print(f\"run_id: {dbutils.widgets.get('run_id')}\")"
   ]
  },
  {
   "cell_type": "code",
   "execution_count": 0,
   "metadata": {
    "application/vnd.databricks.v1+cell": {
     "cellMetadata": {
      "byteLimit": 2048000,
      "rowLimit": 10000
     },
     "inputWidgets": {},
     "nuid": "f7d2e0fe-160c-4730-bc5b-aa549b8d816c",
     "showTitle": false,
     "tableResultSettingsMap": {},
     "title": ""
    }
   },
   "outputs": [],
   "source": [
    "from src.table_utils import log_to_job_execution_detail"
   ]
  },
  {
   "cell_type": "code",
   "execution_count": 0,
   "metadata": {
    "application/vnd.databricks.v1+cell": {
     "cellMetadata": {
      "byteLimit": 2048000,
      "rowLimit": 10000
     },
     "inputWidgets": {},
     "nuid": "0a3f2c3b-abca-452b-8dba-77df67b9d6d0",
     "showTitle": false,
     "tableResultSettingsMap": {},
     "title": ""
    }
   },
   "outputs": [],
   "source": [
    "try:\n",
    "    result = log_to_job_execution_detail(\n",
    "        spark,\n",
    "        batch_id,\n",
    "        proj_id, \n",
    "        dept_id, \n",
    "        job_id,\n",
    "        parent_job_id, \n",
    "        status, \n",
    "        error_message,\n",
    "        workflow_id,\n",
    "        run_id\n",
    "        )\n",
    "    \n",
    "    if result:\n",
    "        print(f\"Successfully updated job {job_id} of batch_id {batch_id} to status {status}\")\n",
    "    else:\n",
    "        error_msg = f\"Failed to update job status\"\n",
    "        raise Exception(error_msg)\n",
    "except Exception as e:\n",
    "    error_msg = f\"Error updating status: {str(e)}\"\n",
    "    raise Exception(error_msg)\n"
   ]
  }
 ],
 "metadata": {
  "application/vnd.databricks.v1+notebook": {
   "computePreferences": null,
   "dashboards": [],
   "environmentMetadata": {
    "base_environment": "",
    "environment_version": "2"
   },
   "inputWidgetPreferences": null,
   "language": "python",
   "notebookMetadata": {
    "mostRecentlyExecutedCommandWithImplicitDF": {
     "commandId": 7433571617075512,
     "dataframes": [
      "_sqldf"
     ]
    },
    "pythonIndentUnit": 2
   },
   "notebookName": "update_job_execution_detail",
   "widgets": {
    "dept_id": {
     "currentValue": "test10",
     "nuid": "c7e92f8e-75df-4ad2-9636-c2970aba6689",
     "typedWidgetInfo": {
      "autoCreated": false,
      "defaultValue": "",
      "label": "Department ID",
      "name": "dept_id",
      "options": {
       "widgetDisplayType": "Text",
       "validationRegex": null
      },
      "parameterDataType": "String"
     },
     "widgetInfo": {
      "widgetType": "text",
      "defaultValue": "",
      "label": "Department ID",
      "name": "dept_id",
      "options": {
       "widgetType": "text",
       "autoCreated": null,
       "validationRegex": null
      }
     }
    },
    "env": {
     "currentValue": "dev",
     "nuid": "a34da41f-c4ac-4491-a632-15dea15c530b",
     "typedWidgetInfo": {
      "autoCreated": false,
      "defaultValue": "",
      "label": "Env Name",
      "name": "env",
      "options": {
       "widgetDisplayType": "Text",
       "validationRegex": null
      },
      "parameterDataType": "String"
     },
     "widgetInfo": {
      "widgetType": "text",
      "defaultValue": "",
      "label": "Env Name",
      "name": "env",
      "options": {
       "widgetType": "text",
       "autoCreated": null,
       "validationRegex": null
      }
     }
    },
    "error_message": {
     "currentValue": "",
     "nuid": "cdcea6d5-f74f-48f0-af49-c4ba8a28f2a8",
     "typedWidgetInfo": {
      "autoCreated": false,
      "defaultValue": "",
      "label": "Error Message",
      "name": "error_message",
      "options": {
       "widgetDisplayType": "Text",
       "validationRegex": null
      },
      "parameterDataType": "String"
     },
     "widgetInfo": {
      "widgetType": "text",
      "defaultValue": "",
      "label": "Error Message",
      "name": "error_message",
      "options": {
       "widgetType": "text",
       "autoCreated": null,
       "validationRegex": null
      }
     }
    },
    "job_id": {
     "currentValue": "test110",
     "nuid": "741d9bec-7b40-4cb0-9486-621b89317855",
     "typedWidgetInfo": {
      "autoCreated": false,
      "defaultValue": "",
      "label": "Job ID",
      "name": "job_id",
      "options": {
       "widgetDisplayType": "Text",
       "validationRegex": null
      },
      "parameterDataType": "String"
     },
     "widgetInfo": {
      "widgetType": "text",
      "defaultValue": "",
      "label": "Job ID",
      "name": "job_id",
      "options": {
       "widgetType": "text",
       "autoCreated": null,
       "validationRegex": null
      }
     }
    },
    "proj_id": {
     "currentValue": "test0",
     "nuid": "95b399d5-4552-43fd-9e08-a2456b6fb3d9",
     "typedWidgetInfo": {
      "autoCreated": false,
      "defaultValue": "",
      "label": "Project ID",
      "name": "proj_id",
      "options": {
       "widgetDisplayType": "Text",
       "validationRegex": null
      },
      "parameterDataType": "String"
     },
     "widgetInfo": {
      "widgetType": "text",
      "defaultValue": "",
      "label": "Project ID",
      "name": "proj_id",
      "options": {
       "widgetType": "text",
       "autoCreated": null,
       "validationRegex": null
      }
     }
    },
    "status": {
     "currentValue": "",
     "nuid": "65fa0fd7-d3ff-4972-abea-6c57aaefe60c",
     "typedWidgetInfo": {
      "autoCreated": false,
      "defaultValue": "",
      "label": "Status",
      "name": "status",
      "options": {
       "widgetDisplayType": "Text",
       "validationRegex": null
      },
      "parameterDataType": "String"
     },
     "widgetInfo": {
      "widgetType": "text",
      "defaultValue": "",
      "label": "Status",
      "name": "status",
      "options": {
       "widgetType": "text",
       "autoCreated": null,
       "validationRegex": null
      }
     }
    }
   }
  },
  "language_info": {
   "name": "python"
  }
 },
 "nbformat": 4,
 "nbformat_minor": 0
}
