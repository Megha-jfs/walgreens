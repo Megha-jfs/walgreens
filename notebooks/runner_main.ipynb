{
 "cells": [
  {
   "cell_type": "code",
   "execution_count": 0,
   "metadata": {
    "application/vnd.databricks.v1+cell": {
     "cellMetadata": {
      "byteLimit": 2048000,
      "rowLimit": 10000
     },
     "inputWidgets": {},
     "nuid": "9f94dc58-10c0-4dd6-aca2-f90314c9b3ec",
     "showTitle": false,
     "tableResultSettingsMap": {},
     "title": ""
    }
   },
   "outputs": [],
   "source": [
    "params = dict(dbutils.notebook.entry_point.getCurrentBindings())\n",
    "# notebook_path = params.pop(\"notebook_path\", \"\")"
   ]
  },
  {
   "cell_type": "code",
   "execution_count": 0,
   "metadata": {
    "application/vnd.databricks.v1+cell": {
     "cellMetadata": {
      "byteLimit": 2048000,
      "rowLimit": 10000
     },
     "inputWidgets": {},
     "nuid": "e70610ab-26dc-44c6-802a-c5d41d249ffa",
     "showTitle": false,
     "tableResultSettingsMap": {},
     "title": ""
    }
   },
   "outputs": [],
   "source": [
    "for key, value in params.items():\n",
    "    locals()[key] = value"
   ]
  },
  {
   "cell_type": "code",
   "execution_count": 0,
   "metadata": {
    "application/vnd.databricks.v1+cell": {
     "cellMetadata": {
      "byteLimit": 2048000,
      "rowLimit": 10000
     },
     "inputWidgets": {},
     "nuid": "bbf655c5-8499-4ada-a1ef-70a334a390f4",
     "showTitle": false,
     "tableResultSettingsMap": {},
     "title": ""
    }
   },
   "outputs": [],
   "source": [
    "batch_id = dbutils.jobs.taskValues.get(taskKey=\"batch_check\", key=\"batch_id\", debugValue=1)"
   ]
  },
  {
   "cell_type": "code",
   "execution_count": 0,
   "metadata": {
    "application/vnd.databricks.v1+cell": {
     "cellMetadata": {
      "byteLimit": 2048000,
      "rowLimit": 10000
     },
     "inputWidgets": {},
     "nuid": "5ba40651-5161-403b-a191-6439a0a1c841",
     "showTitle": false,
     "tableResultSettingsMap": {},
     "title": ""
    }
   },
   "outputs": [],
   "source": [
    "from src.table_utils import log_to_job_execution_detail"
   ]
  },
  {
   "cell_type": "code",
   "execution_count": 0,
   "metadata": {
    "application/vnd.databricks.v1+cell": {
     "cellMetadata": {
      "byteLimit": 2048000,
      "rowLimit": 10000
     },
     "inputWidgets": {},
     "nuid": "0b17264c-af6e-4de0-b619-4daee1ee220a",
     "showTitle": false,
     "tableResultSettingsMap": {},
     "title": ""
    }
   },
   "outputs": [],
   "source": [
    "# Update job status to IN_PROGRESS\n",
    "log_to_job_execution_detail(\n",
    "    spark,\n",
    "    batch_id,\n",
    "    proj_id, \n",
    "    dept_id, \n",
    "    job_id, \n",
    "    \"IN_PROGRESS\", \n",
    "    \"\")\n"
   ]
  },
  {
   "cell_type": "code",
   "execution_count": 0,
   "metadata": {
    "application/vnd.databricks.v1+cell": {
     "cellMetadata": {
      "byteLimit": 2048000,
      "rowLimit": 10000
     },
     "inputWidgets": {},
     "nuid": "66c56776-1fe1-4a22-bf6f-bcd0b1fe0b3f",
     "showTitle": false,
     "tableResultSettingsMap": {},
     "title": ""
    }
   },
   "outputs": [],
   "source": [
    "# from pathlib import Path\n",
    "# import os\n",
    "\n",
    "# def get_project_root(marker=\"databricks.yml\"):\n",
    "#   current_file = Path(os.path.abspath(\"\")).resolve()\n",
    "#   for parent in current_file.parents:\n",
    "#     if (parent / marker).exists():\n",
    "#       return parent\n",
    "#   raise Exception(f\"Could not find project root with marker {marker}\")\n",
    "\n",
    "# project_root_path = get_project_root()\n",
    "# print(f\"Project root path: {project_root_path}\")\n",
    "\n",
    "# notebook_path = os.path.join(project_root_path, notebook_path)\n",
    "\n",
    "# print(f\"Notebook path: {notebook_path}\")"
   ]
  },
  {
   "cell_type": "code",
   "execution_count": 0,
   "metadata": {
    "application/vnd.databricks.v1+cell": {
     "cellMetadata": {
      "byteLimit": 2048000,
      "rowLimit": 10000
     },
     "inputWidgets": {},
     "nuid": "aca241b4-6f7d-4d5e-88ca-ddc6042b27f0",
     "showTitle": false,
     "tableResultSettingsMap": {},
     "title": ""
    }
   },
   "outputs": [],
   "source": [
    "import os \n",
    "root = \"/Workspace/Users/megha.upadhyay@walgreens.com/walgreens_proc_control_fw\"\n",
    "notebook_path = os.path.join(root, notebook_path)\n",
    "print(f\"Notebook path: {notebook_path}\")"
   ]
  },
  {
   "cell_type": "code",
   "execution_count": 0,
   "metadata": {
    "application/vnd.databricks.v1+cell": {
     "cellMetadata": {
      "byteLimit": 2048000,
      "rowLimit": 10000
     },
     "inputWidgets": {},
     "nuid": "2198c18b-8105-4748-9938-53fc99207897",
     "showTitle": false,
     "tableResultSettingsMap": {},
     "title": ""
    }
   },
   "outputs": [],
   "source": [
    "try:  \n",
    "    if notebook_path:\n",
    "        result = dbutils.notebook.run(notebook_path, timeout_seconds=0, arguments=params)\n",
    "    else:\n",
    "        raise ValueError(\"No notebook path provided\")\n",
    "\n",
    "except Exception as e:\n",
    "    error_msg = f\"Error executing SQL: {str(e)}\"\n",
    "    print(error_msg)    \n",
    "    # Update job status to FAILED\n",
    "    log_to_job_execution_detail(\n",
    "    spark,\n",
    "    batch_id,\n",
    "    proj_id, \n",
    "    dept_id, \n",
    "    job_id, \n",
    "    \"FAILED\", \n",
    "    error_msg)\n",
    "    \n",
    "    raise e\n"
   ]
  },
  {
   "cell_type": "code",
   "execution_count": 0,
   "metadata": {
    "application/vnd.databricks.v1+cell": {
     "cellMetadata": {
      "byteLimit": 2048000,
      "rowLimit": 10000
     },
     "inputWidgets": {},
     "nuid": "945aeada-9c52-40dd-bf83-defa65076816",
     "showTitle": false,
     "tableResultSettingsMap": {},
     "title": ""
    }
   },
   "outputs": [],
   "source": [
    "# Update job status to COMPLETED\n",
    "log_to_job_execution_detail(\n",
    "    spark,\n",
    "    batch_id,\n",
    "    proj_id, \n",
    "    dept_id, \n",
    "    job_id, \n",
    "    \"COMPLETED\", \n",
    "    \"\")"
   ]
  }
 ],
 "metadata": {
  "application/vnd.databricks.v1+notebook": {
   "computePreferences": null,
   "dashboards": [],
   "environmentMetadata": {
    "base_environment": "",
    "environment_version": "2"
   },
   "inputWidgetPreferences": null,
   "language": "python",
   "notebookMetadata": {
    "pythonIndentUnit": 2
   },
   "notebookName": "runner_main",
   "widgets": {
    "dept_id": {
     "currentValue": "",
     "nuid": "2a792871-cc54-484c-ad65-3fbc29614338",
     "typedWidgetInfo": {
      "autoCreated": false,
      "defaultValue": "",
      "label": "Department ID",
      "name": "dept_id",
      "options": {
       "widgetDisplayType": "Text",
       "validationRegex": null
      },
      "parameterDataType": "String"
     },
     "widgetInfo": {
      "widgetType": "text",
      "defaultValue": "",
      "label": "Department ID",
      "name": "dept_id",
      "options": {
       "widgetType": "text",
       "autoCreated": null,
       "validationRegex": null
      }
     }
    },
    "env": {
     "currentValue": "",
     "nuid": "78aa1bcd-8b2c-4d9b-b502-ea434b3a88eb",
     "typedWidgetInfo": {
      "autoCreated": false,
      "defaultValue": "",
      "label": "Env Name",
      "name": "env",
      "options": {
       "widgetDisplayType": "Text",
       "validationRegex": null
      },
      "parameterDataType": "String"
     },
     "widgetInfo": {
      "widgetType": "text",
      "defaultValue": "",
      "label": "Env Name",
      "name": "env",
      "options": {
       "widgetType": "text",
       "autoCreated": null,
       "validationRegex": null
      }
     }
    },
    "job_id": {
     "currentValue": "",
     "nuid": "682c956d-e56c-43b4-a68e-f4a9f800a0c9",
     "typedWidgetInfo": {
      "autoCreated": false,
      "defaultValue": "",
      "label": "Job ID",
      "name": "job_id",
      "options": {
       "widgetDisplayType": "Text",
       "validationRegex": null
      },
      "parameterDataType": "String"
     },
     "widgetInfo": {
      "widgetType": "text",
      "defaultValue": "",
      "label": "Job ID",
      "name": "job_id",
      "options": {
       "widgetType": "text",
       "autoCreated": null,
       "validationRegex": null
      }
     }
    },
    "proj_id": {
     "currentValue": "",
     "nuid": "c9862f8a-1ece-4344-8b30-777b08938ead",
     "typedWidgetInfo": {
      "autoCreated": false,
      "defaultValue": "",
      "label": "Project ID",
      "name": "proj_id",
      "options": {
       "widgetDisplayType": "Text",
       "validationRegex": null
      },
      "parameterDataType": "String"
     },
     "widgetInfo": {
      "widgetType": "text",
      "defaultValue": "",
      "label": "Project ID",
      "name": "proj_id",
      "options": {
       "widgetType": "text",
       "autoCreated": null,
       "validationRegex": null
      }
     }
    }
   }
  },
  "language_info": {
   "name": "python"
  }
 },
 "nbformat": 4,
 "nbformat_minor": 0
}
