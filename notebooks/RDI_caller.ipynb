{
 "cells": [
  {
   "cell_type": "code",
   "execution_count": 0,
   "metadata": {
    "application/vnd.databricks.v1+cell": {
     "cellMetadata": {},
     "inputWidgets": {},
     "nuid": "3e6519e7-f0f4-42fd-b456-97ea7f88effc",
     "showTitle": false,
     "tableResultSettingsMap": {},
     "title": ""
    }
   },
   "outputs": [],
   "source": [
    "%run ./RDI_new"
   ]
  },
  {
   "cell_type": "code",
   "execution_count": 0,
   "metadata": {
    "application/vnd.databricks.v1+cell": {
     "cellMetadata": {},
     "inputWidgets": {},
     "nuid": "8b74630f-a03f-4120-8998-fd2d11cee733",
     "showTitle": false,
     "tableResultSettingsMap": {},
     "title": ""
    }
   },
   "outputs": [],
   "source": [
    "dbutils.widgets.text(\"proj_id\", \"Supply Chain\")\n",
    "dbutils.widgets.text(\"dept_id\", \"SCM\")\n",
    "dbutils.widgets.text(\"job_id\", \"SSIS\")\n",
    "dbutils.widgets.text(\"run_id\", \"\")\n",
    "dbutils.widgets.text(\"workflow_id\", \"\")\n",
    "\n",
    "proj_id = dbutils.widgets.get(\"proj_id\")\n",
    "dept_id = dbutils.widgets.get(\"dept_id\")\n",
    "job_id = dbutils.widgets.get(\"job_id\")\n",
    "run_id = dbutils.widgets.get(\"run_id\")\n",
    "workflow_id = dbutils.widgets.get(\"workflow_id\")"
   ]
  },
  {
   "cell_type": "code",
   "execution_count": 0,
   "metadata": {
    "application/vnd.databricks.v1+cell": {
     "cellMetadata": {},
     "inputWidgets": {},
     "nuid": "b687c034-0a1d-498b-9d00-e702c98049e1",
     "showTitle": false,
     "tableResultSettingsMap": {},
     "title": ""
    }
   },
   "outputs": [],
   "source": [
    "ingestion_manager = IngestionManager(proj_id, dept_id, job_id,workflow_id,run_id)\n",
    "ingestion_manager.process_ingestion()"
   ]
  }
 ],
 "metadata": {
  "application/vnd.databricks.v1+notebook": {
   "computePreferences": null,
   "dashboards": [],
   "environmentMetadata": {
    "base_environment": "",
    "environment_version": "2"
   },
   "inputWidgetPreferences": null,
   "language": "python",
   "notebookMetadata": {
    "pythonIndentUnit": 2
   },
   "notebookName": "RDI_caller",
   "widgets": {}
  },
  "language_info": {
   "name": "python"
  }
 },
 "nbformat": 4,
 "nbformat_minor": 0
}
