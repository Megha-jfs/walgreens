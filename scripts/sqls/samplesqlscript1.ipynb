{
 "cells": [
  {
   "cell_type": "code",
   "execution_count": 0,
   "metadata": {
    "application/vnd.databricks.v1+cell": {
     "cellMetadata": {
      "byteLimit": 2048000,
      "rowLimit": 10000
     },
     "inputWidgets": {},
     "nuid": "9f94dc58-10c0-4dd6-aca2-f90314c9b3ec",
     "showTitle": false,
     "tableResultSettingsMap": {},
     "title": ""
    }
   },
   "outputs": [],
   "source": [
    "dbutils.widgets.removeAll()\n",
    "dbutils.widgets.text(\"env\", \"\", \"Env Name\")\n",
    "dbutils.widgets.text(\"proj_id\", \"\", \"Project ID\")\n",
    "dbutils.widgets.text(\"dept_id\", \"\", \"Department ID\")\n",
    "dbutils.widgets.text(\"job_id\", \"\", \"Job ID\")"
   ]
  },
  {
   "cell_type": "code",
   "execution_count": 0,
   "metadata": {
    "application/vnd.databricks.v1+cell": {
     "cellMetadata": {
      "byteLimit": 2048000,
      "rowLimit": 10000
     },
     "inputWidgets": {},
     "nuid": "257ee775-eee3-4501-a3ce-0f9e448a3f47",
     "showTitle": false,
     "tableResultSettingsMap": {},
     "title": ""
    }
   },
   "outputs": [],
   "source": [
    "env = dbutils.widgets.get(\"env\")\n",
    "proj_id = dbutils.widgets.get(\"proj_id\")\n",
    "dept_id = dbutils.widgets.get(\"dept_id\")\n",
    "job_id = dbutils.widgets.get(\"job_id\")"
   ]
  },
  {
   "cell_type": "code",
   "execution_count": 0,
   "metadata": {
    "application/vnd.databricks.v1+cell": {
     "cellMetadata": {
      "byteLimit": 2048000,
      "rowLimit": 10000
     },
     "inputWidgets": {},
     "nuid": "bbf655c5-8499-4ada-a1ef-70a334a390f4",
     "showTitle": false,
     "tableResultSettingsMap": {},
     "title": ""
    }
   },
   "outputs": [],
   "source": [
    "batch_id = dbutils.jobs.taskValues.get(taskKey=\"fetch_open_batch\", key=\"batch_id\", debugValue=1)"
   ]
  },
  {
   "cell_type": "code",
   "execution_count": 0,
   "metadata": {
    "application/vnd.databricks.v1+cell": {
     "cellMetadata": {
      "byteLimit": 2048000,
      "rowLimit": 10000
     },
     "inputWidgets": {},
     "nuid": "4c60b9d1-8ebc-4703-8c0e-53afe7821636",
     "showTitle": false,
     "tableResultSettingsMap": {},
     "title": ""
    }
   },
   "outputs": [],
   "source": [
    "print(f\"env: {dbutils.widgets.get('env')}\")\n",
    "print(f\"proj_id: {dbutils.widgets.get('proj_id')}\")\n",
    "print(f\"dept_id: {dbutils.widgets.get('dept_id')}\")\n",
    "print(f\"job_id: {dbutils.widgets.get('job_id')}\")\n",
    "print(f\"batch_id: {batch_id}\")"
   ]
  },
  {
   "cell_type": "code",
   "execution_count": 0,
   "metadata": {
    "application/vnd.databricks.v1+cell": {
     "cellMetadata": {
      "byteLimit": 2048000,
      "rowLimit": 10000
     },
     "inputWidgets": {},
     "nuid": "5ba40651-5161-403b-a191-6439a0a1c841",
     "showTitle": false,
     "tableResultSettingsMap": {},
     "title": ""
    }
   },
   "outputs": [],
   "source": [
    "from src.table_utils import log_to_job_execution_detail"
   ]
  },
  {
   "cell_type": "code",
   "execution_count": 0,
   "metadata": {
    "application/vnd.databricks.v1+cell": {
     "cellMetadata": {
      "byteLimit": 2048000,
      "rowLimit": 10000
     },
     "inputWidgets": {},
     "nuid": "0b17264c-af6e-4de0-b619-4daee1ee220a",
     "showTitle": false,
     "tableResultSettingsMap": {},
     "title": ""
    }
   },
   "outputs": [],
   "source": [
    "# Update job status to IN_PROGRESS\n",
    "log_to_job_execution_detail(\n",
    "    spark,\n",
    "    batch_id,\n",
    "    proj_id, \n",
    "    dept_id, \n",
    "    job_id, \n",
    "    \"IN_PROGRESS\", \n",
    "    \"\")\n"
   ]
  },
  {
   "cell_type": "code",
   "execution_count": 0,
   "metadata": {
    "application/vnd.databricks.v1+cell": {
     "cellMetadata": {
      "byteLimit": 2048000,
      "rowLimit": 10000
     },
     "inputWidgets": {},
     "nuid": "2198c18b-8105-4748-9938-53fc99207897",
     "showTitle": false,
     "tableResultSettingsMap": {},
     "title": ""
    }
   },
   "outputs": [],
   "source": [
    "try:  \n",
    "    # Your SQL execution here - replace with your actual query\n",
    "    query = f\"\"\"\n",
    "    SELECT \"Hello this is sql script testing 1\"\n",
    "    \"\"\"\n",
    "\n",
    "    result = spark.sql(query)\n",
    "    \n",
    "    print(f\"SQL execution completed.\")\n",
    "\n",
    "except Exception as e:\n",
    "    error_msg = f\"Error executing SQL: {str(e)}\"\n",
    "    print(error_msg)    \n",
    "    # Update job status to FAILED\n",
    "    log_to_job_execution_detail(\n",
    "    spark,\n",
    "    batch_id,\n",
    "    proj_id, \n",
    "    dept_id, \n",
    "    job_id, \n",
    "    \"FAILED\", \n",
    "    error_msg)\n"
   ]
  },
  {
   "cell_type": "code",
   "execution_count": 0,
   "metadata": {
    "application/vnd.databricks.v1+cell": {
     "cellMetadata": {
      "byteLimit": 2048000,
      "rowLimit": 10000
     },
     "inputWidgets": {},
     "nuid": "945aeada-9c52-40dd-bf83-defa65076816",
     "showTitle": false,
     "tableResultSettingsMap": {},
     "title": ""
    }
   },
   "outputs": [],
   "source": [
    "# Update job status to COMPLETED\n",
    "log_to_job_execution_detail(\n",
    "    spark,\n",
    "    batch_id,\n",
    "    proj_id, \n",
    "    dept_id, \n",
    "    job_id, \n",
    "    \"COMPLETED\", \n",
    "    \"\")"
   ]
  }
 ],
 "metadata": {
  "application/vnd.databricks.v1+notebook": {
   "computePreferences": null,
   "dashboards": [],
   "environmentMetadata": {
    "base_environment": "",
    "environment_version": "2"
   },
   "inputWidgetPreferences": null,
   "language": "python",
   "notebookMetadata": {
    "pythonIndentUnit": 2
   },
   "notebookName": "samplesqlscript1",
   "widgets": {
    "dept_id": {
     "currentValue": "",
     "nuid": "2a792871-cc54-484c-ad65-3fbc29614338",
     "typedWidgetInfo": {
      "autoCreated": false,
      "defaultValue": "",
      "label": "Department ID",
      "name": "dept_id",
      "options": {
       "widgetDisplayType": "Text",
       "validationRegex": null
      },
      "parameterDataType": "String"
     },
     "widgetInfo": {
      "widgetType": "text",
      "defaultValue": "",
      "label": "Department ID",
      "name": "dept_id",
      "options": {
       "widgetType": "text",
       "autoCreated": null,
       "validationRegex": null
      }
     }
    },
    "env": {
     "currentValue": "",
     "nuid": "78aa1bcd-8b2c-4d9b-b502-ea434b3a88eb",
     "typedWidgetInfo": {
      "autoCreated": false,
      "defaultValue": "",
      "label": "Env Name",
      "name": "env",
      "options": {
       "widgetDisplayType": "Text",
       "validationRegex": null
      },
      "parameterDataType": "String"
     },
     "widgetInfo": {
      "widgetType": "text",
      "defaultValue": "",
      "label": "Env Name",
      "name": "env",
      "options": {
       "widgetType": "text",
       "autoCreated": null,
       "validationRegex": null
      }
     }
    },
    "job_id": {
     "currentValue": "",
     "nuid": "682c956d-e56c-43b4-a68e-f4a9f800a0c9",
     "typedWidgetInfo": {
      "autoCreated": false,
      "defaultValue": "",
      "label": "Job ID",
      "name": "job_id",
      "options": {
       "widgetDisplayType": "Text",
       "validationRegex": null
      },
      "parameterDataType": "String"
     },
     "widgetInfo": {
      "widgetType": "text",
      "defaultValue": "",
      "label": "Job ID",
      "name": "job_id",
      "options": {
       "widgetType": "text",
       "autoCreated": null,
       "validationRegex": null
      }
     }
    },
    "proj_id": {
     "currentValue": "",
     "nuid": "c9862f8a-1ece-4344-8b30-777b08938ead",
     "typedWidgetInfo": {
      "autoCreated": false,
      "defaultValue": "",
      "label": "Project ID",
      "name": "proj_id",
      "options": {
       "widgetDisplayType": "Text",
       "validationRegex": null
      },
      "parameterDataType": "String"
     },
     "widgetInfo": {
      "widgetType": "text",
      "defaultValue": "",
      "label": "Project ID",
      "name": "proj_id",
      "options": {
       "widgetType": "text",
       "autoCreated": null,
       "validationRegex": null
      }
     }
    }
   }
  },
  "language_info": {
   "name": "python"
  }
 },
 "nbformat": 4,
 "nbformat_minor": 0
}
